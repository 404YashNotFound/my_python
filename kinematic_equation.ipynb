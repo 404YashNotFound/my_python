{
  "cells": [
    {
      "cell_type": "markdown",
      "metadata": {
        "id": "TKcOiuZTjxnV"
      },
      "source": [
        "###Calculate the time it takes for A stone to hit the ground when dropped from a hieght of100m. then determine the distance travelled by stone during its fall"
      ]
    },
    {
      "cell_type": "code",
      "execution_count": null,
      "metadata": {
        "colab": {
          "base_uri": "https://localhost:8080/"
        },
        "id": "i2lXWbNM_nqc",
        "outputId": "3a6a784b-7ab9-4494-c99f-38aba702937b"
      },
      "outputs": [
        {
          "name": "stdout",
          "output_type": "stream",
          "text": [
            "Enter the time (in seconds) or 'x' if unknown: 100\n",
            "Enter the height (in meters) or 'x' if unknown: x'\n",
            "Invalid input! Please enter a number or 'x'.\n",
            "Enter the height (in meters) or 'x' if unknown: x\n",
            "Distance traveled by the stone: 49000.0 meters\n"
          ]
        }
      ],
      "source": [
        "import math\n",
        "\n",
        "# Function to validate user input\n",
        "def get_input(prompt):\n",
        "    value = str.lower(input(prompt))\n",
        "    if value == \"x\":\n",
        "        return None\n",
        "    try:\n",
        "        return float(value)\n",
        "    except ValueError:\n",
        "        print(\"Invalid input! Please enter a number or 'x'.\")\n",
        "        return get_input(prompt)\n",
        "\n",
        "# Get user inputs\n",
        "time = get_input(\"Enter the time (in seconds) or 'x' if unknown: \")\n",
        "height = get_input(\"Enter the height (in meters) or 'x' if unknown: \")\n",
        "\n",
        "gravity = 9.8  # Acceleration due to gravity (m/s²)\n",
        "\n",
        "# Calculate missing value based on user input\n",
        "if height is None and time is not None:\n",
        "    # Calculate height using h = 0.5 * g * t²\n",
        "    height = 0.5 * gravity * (time ** 2)\n",
        "    print(f\"Distance traveled by the stone: {height} meters\")\n",
        "\n",
        "elif time is None and height is not None:\n",
        "    # Calculate time using t = sqrt(2h/g)\n",
        "    time = math.sqrt((2 * height) / gravity)\n",
        "    print(f\"Time taken to hit the ground: {time} seconds\")\n",
        "\n",
        "else:\n",
        "    print(\"Please enter 'x' for either time or height, not both.\")\n",
        "\n"
      ]
    }
  ],
  "metadata": {
    "colab": {
      "provenance": []
    },
    "kernelspec": {
      "display_name": "Python 3",
      "name": "python3"
    },
    "language_info": {
      "name": "python"
    }
  },
  "nbformat": 4,
  "nbformat_minor": 0
}
