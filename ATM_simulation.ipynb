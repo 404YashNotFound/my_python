{
  "nbformat": 4,
  "nbformat_minor": 0,
  "metadata": {
    "colab": {
      "provenance": []
    },
    "kernelspec": {
      "name": "python3",
      "display_name": "Python 3"
    },
    "language_info": {
      "name": "python"
    }
  },
  "cells": [
    {
      "cell_type": "markdown",
      "source": [
        "#1 assignment\n",
        "\n",
        "Implement a login system where the user is given 3 attempts to enter the correct password. If they fail after 3 attempts, the program should block further attempts. Simulate an ATM system where the user has a balance of $1000. They can withdraw money until their balance is insufficient or they choose to exit.\n",
        "1. password-3 attempts\n",
        "2. account - saving\n",
        "3. withdrawal/balance checking - 5 attempts\n",
        "4. remaining balance\n",
        "5. creativity"
      ],
      "metadata": {
        "id": "ZFlqd25leT1O"
      }
    },
    {
      "cell_type": "code",
      "execution_count": 6,
      "metadata": {
        "colab": {
          "base_uri": "https://localhost:8080/"
        },
        "id": "XVJiP0v1YnWP",
        "outputId": "9ab3db88-5af9-48ea-ab03-8987e03862dc"
      },
      "outputs": [
        {
          "output_type": "stream",
          "name": "stdout",
          "text": [
            "Enter the account type saving or current: saving\n",
            "Enter the pin: 145\n",
            "Access denied\n",
            "Attemp left: 2\n",
            "Enter the pin: 454\n",
            "Access denied\n",
            "Attemp left: 1\n",
            "Enter the pin: 1\n",
            "Access denied\n",
            "Attemp left: 0\n",
            "Too many failed attempts. Your account is locked.\n"
          ]
        }
      ],
      "source": [
        "#First User account info saved\n",
        "pin = \"1234\"\n",
        "balance = 20000\n",
        "account = \"Saving\"\n",
        "\n",
        "account_type = str(input(\"Enter the account type saving or current: \"))\n",
        "\n",
        "#Ask user to input the pin\n",
        "\n",
        "for i in range(1,4):\n",
        "  user_pin = str(input(\"Enter the pin: \"))\n",
        "  if pin == user_pin:\n",
        "    print(\"Access granted\")\n",
        "\n",
        "    #Ask for the purpose\n",
        "\n",
        "    print(\"--- Welcome ---\")\n",
        "    print(\"1. Check Balance\")\n",
        "    print(\"2. Withdraw Money\")\n",
        "    print(\"3. Exit\")\n",
        "\n",
        "    choice = int(input(\"Enter your choice (1/2/3): \"))\n",
        "\n",
        "    if choice == 1: #check the Balance\n",
        "      print(f\"You current balance is {balance} \")\n",
        "    elif choice == 2: #take user info to know Withdraw amount\n",
        "      amt = int(input(\"Enter the Amout to Withdraw: \"))\n",
        "      remain = balance - amt\n",
        "      if amt > balance:\n",
        "        print(\"Insufficient balance. ERROR code = XYZZE\")\n",
        "      else:\n",
        "        print(f\"${amt} withdrawn successfully. Remaining balance: ₹{remain}\\n\")\n",
        "        break\n",
        "\n",
        "    elif choice == 3:  # Exit\n",
        "            print(\"Thank you for using the ATM. Have a great day!\")\n",
        "\n",
        "    else:\n",
        "            print(\"Invalid choice. Please select a valid option.\\n\")\n",
        "\n",
        "\n",
        "  else:\n",
        "    print(\"Access denied\")\n",
        "    b =  3 - i\n",
        "    print(f\"Attemp left: {b}\")\n",
        "\n",
        "# If the loop ends without a break, it means all attempts are used\n",
        "if pin != user_pin:\n",
        "    print(\"Too many failed attempts. Your account is locked.\")\n"
      ]
    },
    {
      "cell_type": "code",
      "source": [],
      "metadata": {
        "id": "NXiqvhxtkQ-4"
      },
      "execution_count": null,
      "outputs": []
    }
  ]
}
